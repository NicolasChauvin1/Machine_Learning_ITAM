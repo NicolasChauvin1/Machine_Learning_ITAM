{
 "cells": [
  {
   "cell_type": "markdown",
   "metadata": {},
   "source": [
    "## <font color = red> Ridge and Lasso </font>"
   ]
  },
  {
   "cell_type": "markdown",
   "metadata": {},
   "source": [
    "#### <font color=green> Import useful tools and data </font>"
   ]
  },
  {
   "cell_type": "code",
   "execution_count": 1,
   "metadata": {},
   "outputs": [],
   "source": [
    "import numpy as np\n",
    "import matplotlib.pyplot as plt \n",
    "import pandas as pd\n",
    "from sklearn.model_selection import *\n",
    "from sklearn.linear_model import *\n",
    "from sklearn.metrics import *\n",
    "from sklearn import *\n",
    "from sklearn.model_selection import *"
   ]
  },
  {
   "cell_type": "code",
   "execution_count": 2,
   "metadata": {},
   "outputs": [],
   "source": [
    "def datos(modo='entrena'):\n",
    "    url = 'https://web.stanford.edu/~hastie/ElemStatLearn/datasets/prostate.data'\n",
    "    df = pd.read_csv(url, sep='\\t')\n",
    "    tag = 'T' if modo == 'entrena' else 'F'\n",
    "    df = df[df['train']==tag].drop(columns=['Unnamed: 0', 'train'])\n",
    "    X_cols = [c for c in df.columns if not c is 'lpsa']\n",
    "    return df[X_cols], df['lpsa']"
   ]
  },
  {
   "cell_type": "markdown",
   "metadata": {},
   "source": [
    "#### <font color = green> Create predictors and labels variables </font>"
   ]
  },
  {
   "cell_type": "code",
   "execution_count": 3,
   "metadata": {},
   "outputs": [],
   "source": [
    "# Create variables from data\n",
    "\n",
    "X, y = datos(modo='entrena')\n",
    "predictors = X.drop( 'lpsa',1)\n",
    "labels = X['lpsa']\n",
    "\n",
    "X =predictors.to_numpy()\n",
    "y =labels.to_numpy()"
   ]
  },
  {
   "cell_type": "markdown",
   "metadata": {},
   "source": [
    "#### <font color = green> Split dataset in train and test set according to 10 Kfold</font> <br>  <font color = green> "
   ]
  },
  {
   "cell_type": "code",
   "execution_count": 4,
   "metadata": {},
   "outputs": [],
   "source": [
    "X =predictors.to_numpy()\n",
    "y =labels.to_numpy()\n",
    "\n",
    "kf = KFold(n_splits=10, random_state=5)\n",
    "    \n",
    "for train_index, test_index in kf.split(X):\n",
    "    \n",
    "    X_train, X_test = X[train_index], X[test_index]\n",
    "    y_train, y_test = y[train_index], y[test_index]"
   ]
  },
  {
   "cell_type": "markdown",
   "metadata": {},
   "source": [
    "#### <font color = green> Define ridge prediction function </font>"
   ]
  },
  {
   "cell_type": "code",
   "execution_count": 5,
   "metadata": {},
   "outputs": [],
   "source": [
    "def ridge(x, X, y, L):\n",
    "    \n",
    "    # yhat = (x * X.T )  * [( X * X.T ) + (alpha * Identity)]^-1 * y\n",
    "    # mat0 = x * X.T\n",
    "    # mat1 = X * X.T \n",
    "    #lambda_id = i*mat2 for i {1 ... L+1}\n",
    "    # mat2 = lambda * Identity\n",
    "    # mat3 = [( X * X.T ) + (lambda * Identity)]^-1\n",
    "\n",
    "    yhat_pred = []\n",
    "    \n",
    "    n, m = X.shape\n",
    "    I = np.identity(n)\n",
    "    \n",
    "    first = np.dot(x,X.T)\n",
    "    second = (np.dot(np.linalg.inv(np.dot(X, X.T) + L * I),y))\n",
    "    yhat = np.dot(first, second)\n",
    "    \n",
    "    yhat_pred.append(yhat)\n",
    "    \n",
    "    return yhat_pred       "
   ]
  },
  {
   "cell_type": "markdown",
   "metadata": {},
   "source": [
    "#### <font color = green> Loop over lambda in order to get different ridge predictions   </font>"
   ]
  },
  {
   "cell_type": "code",
   "execution_count": 6,
   "metadata": {
    "scrolled": true
   },
   "outputs": [],
   "source": [
    "alpha = [0,1,2,3,4,5,6,7,8,9,10]\n",
    "\n",
    "ypred = []\n",
    "\n",
    "for i in range(0,11):\n",
    "\n",
    "    yhatpred = ridge(X_test, X_train, y_train, alpha[i])\n",
    "    ypred.append(yhatpred)"
   ]
  },
  {
   "cell_type": "markdown",
   "metadata": {},
   "source": [
    "#### <font color = green> Calculate mean square error for each prediction   </font># "
   ]
  },
  {
   "cell_type": "code",
   "execution_count": 7,
   "metadata": {},
   "outputs": [],
   "source": [
    "errors = []\n",
    "\n",
    "for j in range(0,11):\n",
    "    \n",
    "    error = np.mean((ypred[j] - y_test)**2)\n",
    "    errors.append(error)"
   ]
  },
  {
   "cell_type": "code",
   "execution_count": 8,
   "metadata": {},
   "outputs": [
    {
     "name": "stdout",
     "output_type": "stream",
     "text": [
      "[871.4653731999101, 1.0728361077179986, 1.1606562008772154, 1.2370620272946993, 1.305347665889779, 1.3674970644508233, 1.424791992949357, 1.4781096041332262, 1.5280792566698602, 1.5751705672406384, 1.619745585450932]\n"
     ]
    }
   ],
   "source": [
    "print(errors)"
   ]
  },
  {
   "cell_type": "markdown",
   "metadata": {},
   "source": [
    "#### <font color = green> Graph the results  </font>#  "
   ]
  },
  {
   "cell_type": "markdown",
   "metadata": {},
   "source": [
    "We note that without regularization (lambdas = 0) the mean square error is very important. However, if we accept little more bias (lambda = 1), the variance is much lower. "
   ]
  },
  {
   "cell_type": "code",
   "execution_count": 9,
   "metadata": {},
   "outputs": [
    {
     "data": {
      "text/plain": [
       "<matplotlib.legend.Legend at 0x186c172f908>"
      ]
     },
     "execution_count": 9,
     "metadata": {},
     "output_type": "execute_result"
    },
    {
     "data": {
      "image/png": "[encoded data removed]",
      "text/plain": [
       "<Figure size 432x288 with 1 Axes>"
      ]
     },
     "metadata": {
      "needs_background": "light"
     },
     "output_type": "display_data"
    }
   ],
   "source": [
    "lambdas = np.linspace(0,10, 11)\n",
    "\n",
    "fig = plt.figure()\n",
    "ax = fig.add_subplot(1, 1, 1)\n",
    "ax.tick_params(axis='both', labelsize=20)\n",
    "ax.set_xlabel('$\\lambda$', fontsize=25)\n",
    "ax.set_ylabel('Mean Squared Error', fontsize=25)\n",
    "ax.plot(lambdas, errors, marker='x', markersize=10, lw=2, markeredgewidth='2', label='Cross validation error')\n",
    "ax.legend(loc='best', fontsize=25, bbox_to_anchor=(1, 1))"
   ]
  },
  {
   "cell_type": "code",
   "execution_count": 10,
   "metadata": {},
   "outputs": [
    {
     "data": {
      "text/plain": [
       "[array([2.89589013, 3.17781328, 3.61652063, 3.33907407, 4.11680191,\n",
       "        3.79629916])]"
      ]
     },
     "execution_count": 10,
     "metadata": {},
     "output_type": "execute_result"
    }
   ],
   "source": [
    "ridge(X_test, X_train, y_train, 1)"
   ]
  },
  {
   "cell_type": "code",
   "execution_count": 11,
   "metadata": {},
   "outputs": [
    {
     "data": {
      "text/plain": [
       "array([3.993603 , 4.029806 , 4.1295508, 4.3851468, 4.6844434, 5.477509 ])"
      ]
     },
     "execution_count": 11,
     "metadata": {},
     "output_type": "execute_result"
    }
   ],
   "source": [
    "y_test"
   ]
  },
  {
   "cell_type": "code",
   "execution_count": null,
   "metadata": {},
   "outputs": [],
   "source": [
    "def soft_threshold(rho,lamda):\n",
    "    '''Soft threshold function used for normalized data and lasso regression'''\n",
    "    if rho < - lamda:\n",
    "        return (rho + lamda)\n",
    "    elif rho >  lamda:\n",
    "        return (rho - lamda)\n",
    "    else: \n",
    "        return 0\n",
    "    \n",
    "\n",
    "def lasso(theta,X,y,lamda = .01, num_iters=100, intercept = False):\n",
    "    '''Coordinate gradient descent for lasso regression - for normalized data. \n",
    "    The intercept parameter allows to specify whether or not we regularize theta_0'''\n",
    "    \n",
    "    #Initialisation of useful values \n",
    "    m,p = X.shape\n",
    "    X = X / (np.linalg.norm(X,axis = 0)) #normalizing X in case it was not done before\n",
    "    \n",
    "    #Looping until max number of iterations\n",
    "    for i in range(num_iters): \n",
    "        \n",
    "        #Looping through each coordinate\n",
    "        for j in range(p):\n",
    "            \n",
    "            #Vectorized implementation\n",
    "            X_j = X[:,j].reshape(-1,1)\n",
    "            y_pred = X @ theta\n",
    "            rho = X_j.T @ (y - y_pred  + theta[j]*X_j)\n",
    "        \n",
    "            #Checking intercept parameter\n",
    "            if intercept == True:  \n",
    "                if j == 0: \n",
    "                    theta[j] =  rho \n",
    "                else:\n",
    "                    theta[j] =  soft_threshold(rho, lamda)  \n",
    "\n",
    "            if intercept == False:\n",
    "                theta[j] =  soft_threshold(rho, lamda)   \n",
    "            "
   ]
  }
 ],
 "metadata": {
  "kernelspec": {
   "display_name": "Python 3",
   "language": "python",
   "name": "python3"
  },
  "language_info": {
   "codemirror_mode": {
    "name": "ipython",
    "version": 3
   },
   "file_extension": ".py",
   "mimetype": "text/x-python",
   "name": "python",
   "nbconvert_exporter": "python",
   "pygments_lexer": "ipython3",
   "version": "3.7.3"
  }
 },
 "nbformat": 4,
 "nbformat_minor": 2
}
