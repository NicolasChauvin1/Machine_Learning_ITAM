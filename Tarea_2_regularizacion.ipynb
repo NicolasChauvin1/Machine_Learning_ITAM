{
 "cells": [
  {
   "cell_type": "markdown",
   "metadata": {},
   "source": [
    "## <font color = red> Ridge and Lasso </font>"
   ]
  },
  {
   "cell_type": "markdown",
   "metadata": {},
   "source": [
    "###  Import useful tools and data. "
   ]
  },
  {
   "cell_type": "code",
   "execution_count": 63,
   "metadata": {},
   "outputs": [],
   "source": [
    "import numpy as np\n",
    "import matplotlib.pyplot as plt \n",
    "import pandas as pd\n",
    "from sklearn.model_selection import *\n",
    "from sklearn.linear_model import *\n",
    "from sklearn.metrics import *\n",
    "from sklearn import *\n",
    "from sklearn.model_selection import *\n"
   ]
  },
  {
   "cell_type": "code",
   "execution_count": 64,
   "metadata": {},
   "outputs": [],
   "source": [
    "data = pd.read_csv('https://web.stanford.edu/~hastie/ElemStatLearn/datasets/prostate.data', delimiter='\\t')"
   ]
  },
  {
   "cell_type": "markdown",
   "metadata": {},
   "source": [
    "### Create predictors and labels variables. "
   ]
  },
  {
   "cell_type": "code",
   "execution_count": 65,
   "metadata": {},
   "outputs": [],
   "source": [
    "X = data.iloc[: , 1:-2]\n",
    "y = data.iloc[:,-2]"
   ]
  },
  {
   "cell_type": "code",
   "execution_count": 66,
   "metadata": {},
   "outputs": [
    {
     "data": {
      "text/plain": [
       "(     lcavol   lweight  age      lbph  svi       lcp  gleason  pgg45\n",
       " 0 -0.579818  2.769459   50 -1.386294    0 -1.386294        6      0\n",
       " 1 -0.994252  3.319626   58 -1.386294    0 -1.386294        6      0\n",
       " 2 -0.510826  2.691243   74 -1.386294    0 -1.386294        7     20,\n",
       " 0   -0.430783\n",
       " 1   -0.162519\n",
       " 2   -0.162519\n",
       " Name: lpsa, dtype: float64)"
      ]
     },
     "execution_count": 66,
     "metadata": {},
     "output_type": "execute_result"
    }
   ],
   "source": [
    "X.head(3), y.head(3)"
   ]
  },
  {
   "cell_type": "code",
   "execution_count": 67,
   "metadata": {},
   "outputs": [
    {
     "data": {
      "text/plain": [
       "((97, 8), (97,))"
      ]
     },
     "execution_count": 67,
     "metadata": {},
     "output_type": "execute_result"
    }
   ],
   "source": [
    "X.shape, y.shape"
   ]
  },
  {
   "cell_type": "markdown",
   "metadata": {},
   "source": [
    "### Split dataset in train and test.  "
   ]
  },
  {
   "cell_type": "markdown",
   "metadata": {},
   "source": [
    "With a 10-fold CV splitting I obtained weird results in term of prediction of lspa value. In order to get some understanding and insights of my work I have decided to do a \"traditional\" splitting."
   ]
  },
  {
   "cell_type": "code",
   "execution_count": 68,
   "metadata": {},
   "outputs": [],
   "source": [
    "X_train = X.iloc[:60]\n",
    "y_train = y.iloc[:60]\n",
    "X_test = X.iloc[60:]\n",
    "y_test = y.iloc[60:]"
   ]
  },
  {
   "cell_type": "markdown",
   "metadata": {},
   "source": [
    "### Define ridge prediction function. "
   ]
  },
  {
   "cell_type": "code",
   "execution_count": 69,
   "metadata": {},
   "outputs": [],
   "source": [
    "def ridge(x, X, y, L):\n",
    "    \n",
    "    # yhat = (x * X.T )  * [( X * X.T ) + (alpha * Identity)]^-1 * y\n",
    "    # mat0 = x * X.T\n",
    "    # mat1 = X * X.T \n",
    "    #lambda_id = i*mat2 for i {1 ... L+1}\n",
    "    # mat2 = lambda * Identity\n",
    "    # mat3 = [( X * X.T ) + (lambda * Identity)]^-1\n",
    "\n",
    "    yhat_pred = []\n",
    "    \n",
    "    n, m = X.shape\n",
    "    I = np.identity(n)\n",
    "    \n",
    "    first = np.dot(x,X.T)\n",
    "    second = (np.dot(np.linalg.inv(np.dot(X, X.T) + L * I),y))\n",
    "    yhat = np.dot(first, second)\n",
    "    \n",
    "    yhat_pred.append(yhat)\n",
    "    \n",
    "    return yhat_pred       "
   ]
  },
  {
   "cell_type": "markdown",
   "metadata": {},
   "source": [
    "### Loop over lambda in order to get different ridge predictions for lpsa variable.   "
   ]
  },
  {
   "cell_type": "code",
   "execution_count": 70,
   "metadata": {
    "scrolled": true
   },
   "outputs": [],
   "source": [
    "alpha = [0,1,2,3,4,5,6,7,8,9,10]\n",
    "\n",
    "y_pred = []\n",
    "\n",
    "for i in range(0,11):\n",
    "\n",
    "    yhat = ridge(X_test, X_train, y_train, alpha[i])\n",
    "    y_pred.append(yhat)"
   ]
  },
  {
   "cell_type": "markdown",
   "metadata": {},
   "source": [
    "### Calculate mean square error for each prediction.    "
   ]
  },
  {
   "cell_type": "code",
   "execution_count": 71,
   "metadata": {},
   "outputs": [],
   "source": [
    "errors = []\n",
    "\n",
    "for j in range(0,11):\n",
    "    \n",
    "    error = np.mean((y_pred[j] - np.array(y_test))**2)\n",
    "    errors.append(error)"
   ]
  },
  {
   "cell_type": "markdown",
   "metadata": {},
   "source": [
    "###  We plot the MSE as lambda value goes from 0 to 10.  "
   ]
  },
  {
   "cell_type": "code",
   "execution_count": 76,
   "metadata": {},
   "outputs": [
    {
     "data": {
      "text/plain": [
       "<matplotlib.legend.Legend at 0x2639aa861d0>"
      ]
     },
     "execution_count": 76,
     "metadata": {},
     "output_type": "execute_result"
    },
    {
     "data": {
      "image/png": "[encoded data removed]",
      "text/plain": [
       "<Figure size 432x288 with 1 Axes>"
      ]
     },
     "metadata": {
      "needs_background": "light"
     },
     "output_type": "display_data"
    }
   ],
   "source": [
    "lambdas = np.linspace(0,11,11)\n",
    "\n",
    "fig = plt.figure()\n",
    "ax = fig.add_subplot(1, 1, 1)\n",
    "ax.tick_params(axis='both', labelsize=20)\n",
    "ax.set_xlabel('$\\lambda$', fontsize=25)\n",
    "ax.set_ylabel('MSE', fontsize=25)\n",
    "ax.plot(lambdas, errors, marker='.', markersize=10, lw=2, markeredgewidth='1', label='MSE')\n",
    "ax.legend(loc='best', fontsize=25, bbox_to_anchor=(1.5, 1))"
   ]
  },
  {
   "cell_type": "markdown",
   "metadata": {},
   "source": [
    "We observe that for lambda > 0, MSE drops as a result of regularization of regresion parameters. If we accept little more bias (lambda>0), the variance is much lower. "
   ]
  },
  {
   "cell_type": "markdown",
   "metadata": {},
   "source": [
    "### Selection of the optimal lambda for ridge regression and comparison with sklearn.  "
   ]
  },
  {
   "cell_type": "code",
   "execution_count": 22,
   "metadata": {},
   "outputs": [
    {
     "name": "stdout",
     "output_type": "stream",
     "text": [
      "MSE minimized for lambda value of : 9 .\n"
     ]
    }
   ],
   "source": [
    "#Reminder \n",
    "new_errors = [round(n,4) for n in errors]\n",
    "index = new_errors.index(2.0210)\n",
    "print('MSE minimized for lambda value of :', index,'.')"
   ]
  },
  {
   "cell_type": "code",
   "execution_count": 23,
   "metadata": {
    "scrolled": true
   },
   "outputs": [
    {
     "name": "stdout",
     "output_type": "stream",
     "text": [
      "The lpsa prediction using optimal lambda value is : 2.3441 .\n"
     ]
    }
   ],
   "source": [
    "#Get optimal lpsa_ridge value\n",
    "optimal_ridge = ridge(X_test, X_train, y_train, 9)\n",
    "results = np.mean(optimal_ridge)\n",
    "\n",
    "print('The lpsa prediction using optimal lambda value is :', round(results,4),'.')"
   ]
  },
  {
   "cell_type": "code",
   "execution_count": 24,
   "metadata": {},
   "outputs": [
    {
     "name": "stdout",
     "output_type": "stream",
     "text": [
      "The lpsa prediction using sklearn Ridge function is : 2.2839 .\n"
     ]
    }
   ],
   "source": [
    "#Sanity check\n",
    "ridge = linear_model.Ridge()\n",
    "ridge.fit(X_train, y_train)\n",
    "results = np.mean(ridge.predict(X_test))\n",
    "\n",
    "print('The lpsa prediction using sklearn Ridge function is :', round(results,4),'.')"
   ]
  },
  {
   "cell_type": "markdown",
   "metadata": {},
   "source": [
    "### MSE for lineal, ridge and lasso regression.    "
   ]
  },
  {
   "cell_type": "markdown",
   "metadata": {},
   "source": [
    "We create a linear regression model and we train it with our training dataset. Then, we collect its MSE value as a baseline.We do the same for ridge and lasso regression."
   ]
  },
  {
   "cell_type": "code",
   "execution_count": 32,
   "metadata": {},
   "outputs": [
    {
     "name": "stdout",
     "output_type": "stream",
     "text": [
      "The linear model error is : 2.8208 .\n",
      "The ridge model error is : [1.9730415017066512] .\n",
      "The lasso model error is : [1.736747016893156] .\n"
     ]
    }
   ],
   "source": [
    "#linear model\n",
    "lr = linear_model.LinearRegression()\n",
    "lr.fit(X_train,y_train)\n",
    "baseline_error = np.mean((lr.predict(X_test) - y_test) ** 2)\n",
    "\n",
    "#ridge model\n",
    "n_alphas_ridge = 200\n",
    "alphas_ridge = np.logspace(-5, 5, n_alphas_ridge)\n",
    "ridge = linear_model.Ridge()\n",
    "\n",
    "ridge_error = []\n",
    "for a in alphas_ridge:\n",
    "    ridge.set_params(alpha=a)\n",
    "    ridge.fit(X_train, y_train)\n",
    "    ridge_error.append([np.mean((ridge.predict(X_test) - y_test) ** 2)])\n",
    "\n",
    "\n",
    "#lasso model\n",
    "n_alphas_lasso = 300\n",
    "alphas_lasso = np.logspace(-5, 1, n_alphas_lasso)\n",
    "lasso = linear_model.Lasso()\n",
    "\n",
    "lasso_error = []\n",
    "for a in alphas_lasso:\n",
    "    lasso.set_params(alpha=a)\n",
    "    lasso.fit(X_train, y_train)\n",
    "    lasso_error.append([np.mean((lasso.predict(X_test) - y_test) ** 2)])\n",
    "\n",
    "\n",
    "print('The linear model error is :', round(baseline_error,4),'.')\n",
    "print('The ridge model error is :', min(ridge_error),'.')\n",
    "print('The lasso model error is :', min(lasso_error),'.')"
   ]
  },
  {
   "cell_type": "markdown",
   "metadata": {},
   "source": [
    "Lasso model is the more efficient in term of prediction of lpsa. It seems logical as lasso gets ride of variables with poor explicative power by giving parameters a weight equals to 0. On the other hand, ridge regression does not make such a selection and does not give 0 weight to its parameters. "
   ]
  },
  {
   "cell_type": "markdown",
   "metadata": {},
   "source": [
    "###  Ridge and lasso coefficients weight as a function of the regularization parameter lambda. "
   ]
  },
  {
   "cell_type": "code",
   "execution_count": 57,
   "metadata": {},
   "outputs": [
    {
     "data": {
      "image/png": "[encoded data removed]",
      "text/plain": [
       "<Figure size 432x288 with 1 Axes>"
      ]
     },
     "metadata": {
      "needs_background": "light"
     },
     "output_type": "display_data"
    },
    {
     "data": {
      "image/png": "[encoded data removed]",
      "text/plain": [
       "<Figure size 432x288 with 1 Axes>"
      ]
     },
     "metadata": {
      "needs_background": "light"
     },
     "output_type": "display_data"
    }
   ],
   "source": [
    "# Define for ridge regression\n",
    "\n",
    "n_alphas = 200\n",
    "alphas = np.logspace(-5, 5, n_alphas)\n",
    "ridge = linear_model.Ridge()\n",
    "\n",
    "coefs = []\n",
    "errors = []\n",
    "for a in alphas:\n",
    "    ridge.set_params(alpha=a)\n",
    "    ridge.fit(X_train, y_train)\n",
    "    coefs.append(ridge.coef_)\n",
    "    errors.append([baseline_error, np.mean((ridge.predict(X_test) - y_test) ** 2)])\n",
    "    \n",
    "# Define for lasso regression \n",
    "\n",
    "n_alphas2 = 300\n",
    "alphas2 = np.logspace(-5, 1, n_alphas2)\n",
    "lasso = linear_model.Lasso(fit_intercept=False)\n",
    "\n",
    "coefs2 = []\n",
    "errors2 = []\n",
    "for b in alphas2:\n",
    "    lasso.set_params(alpha=b)\n",
    "    lasso.fit(X_train, y_train)\n",
    "    coefs2.append(lasso.coef_)\n",
    "    errors2.append([baseline_error, np.mean((lasso.predict(X_test) - y_test) ** 2)])\n",
    "\n",
    "# Plot the results   \n",
    "\n",
    "for i in range(1,2):   \n",
    "    plt.subplot(2,1,i)\n",
    "\n",
    "ax = plt.gca()\n",
    "ax.plot(alphas, coefs)\n",
    "ax.set_xscale('log')\n",
    "plt.xlabel('$\\lambda$', fontsize = 20)\n",
    "plt.ylabel('weights')\n",
    "plt.title('Ridge coefficients as a function of the regularization')\n",
    "plt.axis('tight')\n",
    "plt.show()\n",
    "\n",
    "\n",
    "ap = plt.gca()\n",
    "\n",
    "ap.plot(alphas2, coefs2)\n",
    "ap.set_xscale('log')\n",
    "plt.xlabel('$\\lambda$', fontsize = 20)\n",
    "plt.ylabel('weights')\n",
    "plt.axis('tight')\n",
    "plt.title('Lasso coefficients as a function of the regularization')\n",
    "\n",
    "plt.show()"
   ]
  },
  {
   "cell_type": "markdown",
   "metadata": {},
   "source": [
    "###  Ridge and lasso MSE as a function of the regularization parameter lambda."
   ]
  },
  {
   "cell_type": "code",
   "execution_count": 60,
   "metadata": {},
   "outputs": [
    {
     "data": {
      "image/png": "[encoded data removed]",
      "text/plain": [
       "<Figure size 432x288 with 1 Axes>"
      ]
     },
     "metadata": {
      "needs_background": "light"
     },
     "output_type": "display_data"
    },
    {
     "data": {
      "image/png": "[encoded data removed]",
      "text/plain": [
       "<Figure size 432x288 with 1 Axes>"
      ]
     },
     "metadata": {
      "needs_background": "light"
     },
     "output_type": "display_data"
    }
   ],
   "source": [
    "for i in range(1,2):   \n",
    "    plt.subplot(2,1,i)\n",
    "\n",
    "ax = plt.gca()\n",
    "\n",
    "ax.plot(alphas, errors)\n",
    "ax.set_xscale('log')\n",
    "plt.xlabel('$\\lambda$', fontsize = 20)\n",
    "plt.ylabel('MSE')\n",
    "plt.axis('tight')\n",
    "plt.title('Ridge MSE as a function of regularization parameter')\n",
    "plt.show()\n",
    "\n",
    "\n",
    "ap = plt.gca()\n",
    "\n",
    "ap.plot(alphas2, errors2)\n",
    "ap.set_xscale('log')\n",
    "plt.xlabel('$\\lambda$', fontsize = 20)\n",
    "plt.ylabel('MSE')\n",
    "plt.axis('tight')\n",
    "plt.title('Lasso MSE as a function of regularization parameter')\n",
    "plt.show()"
   ]
  },
  {
   "cell_type": "markdown",
   "metadata": {},
   "source": [
    "### An attempt (not finished): Lasso regression function "
   ]
  },
  {
   "cell_type": "code",
   "execution_count": null,
   "metadata": {},
   "outputs": [],
   "source": [
    "def soft_threshold(rho,lamda):\n",
    "    '''Soft threshold function used for normalized data and lasso regression'''\n",
    "    if rho < - lamda:\n",
    "        return (rho + lamda)\n",
    "    elif rho >  lamda:\n",
    "        return (rho - lamda)\n",
    "    else: \n",
    "        return 0\n",
    "    \n",
    "\n",
    "def lasso(theta,X,y,lamda = .01, num_iters=100, intercept = False):\n",
    "    '''Coordinate gradient descent for lasso regression - for normalized data. \n",
    "    The intercept parameter allows to specify whether or not we regularize theta_0'''\n",
    "    \n",
    "    #Initialisation of useful values \n",
    "    m,p = X.shape\n",
    "    X = X / (np.linalg.norm(X,axis = 0)) #normalizing X in case it was not done before\n",
    "    \n",
    "    #Looping until max number of iterations\n",
    "    for i in range(num_iters): \n",
    "        \n",
    "        #Looping through each coordinate\n",
    "        for j in range(p):\n",
    "            \n",
    "            #Vectorized implementation\n",
    "            X_j = X[:,j].reshape(-1,1)\n",
    "            y_pred = X @ theta\n",
    "            rho = X_j.T @ (y - y_pred  + theta[j]*X_j)\n",
    "        \n",
    "            #Checking intercept parameter\n",
    "            if intercept == True:  \n",
    "                if j == 0: \n",
    "                    theta[j] =  rho \n",
    "                else:\n",
    "                    theta[j] =  soft_threshold(rho, lamda)  \n",
    "\n",
    "            if intercept == False:\n",
    "                theta[j] =  soft_threshold(rho, lamda)   \n",
    "            "
   ]
  }
 ],
 "metadata": {
  "kernelspec": {
   "display_name": "Python 3",
   "language": "python",
   "name": "python3"
  },
  "language_info": {
   "codemirror_mode": {
    "name": "ipython",
    "version": 3
   },
   "file_extension": ".py",
   "mimetype": "text/x-python",
   "name": "python",
   "nbconvert_exporter": "python",
   "pygments_lexer": "ipython3",
   "version": "3.7.3"
  }
 },
 "nbformat": 4,
 "nbformat_minor": 2
}
